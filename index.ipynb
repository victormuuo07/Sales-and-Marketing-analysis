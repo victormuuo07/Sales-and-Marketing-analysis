{
 "cells": [
  {
   "cell_type": "markdown",
   "metadata": {},
   "source": [
    "# Sales and Marketing Analysis"
   ]
  },
  {
   "cell_type": "markdown",
   "metadata": {},
   "source": [
    "### Importing Libraries"
   ]
  },
  {
   "cell_type": "code",
   "execution_count": 59,
   "metadata": {},
   "outputs": [],
   "source": [
    "import pandas as pd\n",
    "import numpy as np\n",
    "import matplotlib.pyplot as plt\n",
    "%matplotlib inline"
   ]
  },
  {
   "cell_type": "markdown",
   "metadata": {},
   "source": [
    "## **Import Dataset**"
   ]
  },
  {
   "cell_type": "code",
   "execution_count": 60,
   "metadata": {},
   "outputs": [
    {
     "data": {
      "text/html": [
       "<div>\n",
       "<style scoped>\n",
       "    .dataframe tbody tr th:only-of-type {\n",
       "        vertical-align: middle;\n",
       "    }\n",
       "\n",
       "    .dataframe tbody tr th {\n",
       "        vertical-align: top;\n",
       "    }\n",
       "\n",
       "    .dataframe thead th {\n",
       "        text-align: right;\n",
       "    }\n",
       "</style>\n",
       "<table border=\"1\" class=\"dataframe\">\n",
       "  <thead>\n",
       "    <tr style=\"text-align: right;\">\n",
       "      <th></th>\n",
       "      <th>YEAR</th>\n",
       "      <th>MONTH</th>\n",
       "      <th>SUPPLIER</th>\n",
       "      <th>ITEM CODE</th>\n",
       "      <th>ITEM DESCRIPTION</th>\n",
       "      <th>ITEM TYPE</th>\n",
       "      <th>RETAIL SALES</th>\n",
       "      <th>RETAIL TRANSFERS</th>\n",
       "      <th>WAREHOUSE SALES</th>\n",
       "    </tr>\n",
       "  </thead>\n",
       "  <tbody>\n",
       "    <tr>\n",
       "      <th>0</th>\n",
       "      <td>2020</td>\n",
       "      <td>1</td>\n",
       "      <td>REPUBLIC NATIONAL DISTRIBUTING CO</td>\n",
       "      <td>100009</td>\n",
       "      <td>BOOTLEG RED - 750ML</td>\n",
       "      <td>WINE</td>\n",
       "      <td>0.00</td>\n",
       "      <td>0.0</td>\n",
       "      <td>2.0</td>\n",
       "    </tr>\n",
       "    <tr>\n",
       "      <th>1</th>\n",
       "      <td>2020</td>\n",
       "      <td>1</td>\n",
       "      <td>PWSWN INC</td>\n",
       "      <td>100024</td>\n",
       "      <td>MOMENT DE PLAISIR - 750ML</td>\n",
       "      <td>WINE</td>\n",
       "      <td>0.00</td>\n",
       "      <td>1.0</td>\n",
       "      <td>4.0</td>\n",
       "    </tr>\n",
       "    <tr>\n",
       "      <th>2</th>\n",
       "      <td>2020</td>\n",
       "      <td>1</td>\n",
       "      <td>RELIABLE CHURCHILL LLLP</td>\n",
       "      <td>1001</td>\n",
       "      <td>S SMITH ORGANIC PEAR CIDER - 18.7OZ</td>\n",
       "      <td>BEER</td>\n",
       "      <td>0.00</td>\n",
       "      <td>0.0</td>\n",
       "      <td>1.0</td>\n",
       "    </tr>\n",
       "    <tr>\n",
       "      <th>3</th>\n",
       "      <td>2020</td>\n",
       "      <td>1</td>\n",
       "      <td>LANTERNA DISTRIBUTORS INC</td>\n",
       "      <td>100145</td>\n",
       "      <td>SCHLINK HAUS KABINETT - 750ML</td>\n",
       "      <td>WINE</td>\n",
       "      <td>0.00</td>\n",
       "      <td>0.0</td>\n",
       "      <td>1.0</td>\n",
       "    </tr>\n",
       "    <tr>\n",
       "      <th>4</th>\n",
       "      <td>2020</td>\n",
       "      <td>1</td>\n",
       "      <td>DIONYSOS IMPORTS INC</td>\n",
       "      <td>100293</td>\n",
       "      <td>SANTORINI GAVALA WHITE - 750ML</td>\n",
       "      <td>WINE</td>\n",
       "      <td>0.82</td>\n",
       "      <td>0.0</td>\n",
       "      <td>0.0</td>\n",
       "    </tr>\n",
       "  </tbody>\n",
       "</table>\n",
       "</div>"
      ],
      "text/plain": [
       "   YEAR  MONTH                           SUPPLIER ITEM CODE  \\\n",
       "0  2020      1  REPUBLIC NATIONAL DISTRIBUTING CO    100009   \n",
       "1  2020      1                          PWSWN INC    100024   \n",
       "2  2020      1            RELIABLE CHURCHILL LLLP      1001   \n",
       "3  2020      1          LANTERNA DISTRIBUTORS INC    100145   \n",
       "4  2020      1               DIONYSOS IMPORTS INC    100293   \n",
       "\n",
       "                      ITEM DESCRIPTION ITEM TYPE  RETAIL SALES  \\\n",
       "0                  BOOTLEG RED - 750ML      WINE          0.00   \n",
       "1            MOMENT DE PLAISIR - 750ML      WINE          0.00   \n",
       "2  S SMITH ORGANIC PEAR CIDER - 18.7OZ      BEER          0.00   \n",
       "3        SCHLINK HAUS KABINETT - 750ML      WINE          0.00   \n",
       "4       SANTORINI GAVALA WHITE - 750ML      WINE          0.82   \n",
       "\n",
       "   RETAIL TRANSFERS  WAREHOUSE SALES  \n",
       "0               0.0              2.0  \n",
       "1               1.0              4.0  \n",
       "2               0.0              1.0  \n",
       "3               0.0              1.0  \n",
       "4               0.0              0.0  "
      ]
     },
     "execution_count": 60,
     "metadata": {},
     "output_type": "execute_result"
    }
   ],
   "source": [
    "df = pd.read_csv('data/sales_project.csv')\n",
    "df.head()"
   ]
  },
  {
   "cell_type": "markdown",
   "metadata": {},
   "source": [
    "## Explatory Data Analysis"
   ]
  },
  {
   "cell_type": "code",
   "execution_count": 61,
   "metadata": {},
   "outputs": [
    {
     "data": {
      "text/plain": [
       "(30000, 9)"
      ]
     },
     "execution_count": 61,
     "metadata": {},
     "output_type": "execute_result"
    }
   ],
   "source": [
    "df.shape"
   ]
  },
  {
   "cell_type": "code",
   "execution_count": 62,
   "metadata": {},
   "outputs": [
    {
     "name": "stdout",
     "output_type": "stream",
     "text": [
      "<class 'pandas.core.frame.DataFrame'>\n",
      "RangeIndex: 30000 entries, 0 to 29999\n",
      "Data columns (total 9 columns):\n",
      " #   Column            Non-Null Count  Dtype  \n",
      "---  ------            --------------  -----  \n",
      " 0   YEAR              30000 non-null  int64  \n",
      " 1   MONTH             30000 non-null  int64  \n",
      " 2   SUPPLIER          29967 non-null  object \n",
      " 3   ITEM CODE         30000 non-null  object \n",
      " 4   ITEM DESCRIPTION  30000 non-null  object \n",
      " 5   ITEM TYPE         30000 non-null  object \n",
      " 6   RETAIL SALES      29999 non-null  float64\n",
      " 7   RETAIL TRANSFERS  30000 non-null  float64\n",
      " 8   WAREHOUSE SALES   30000 non-null  float64\n",
      "dtypes: float64(3), int64(2), object(4)\n",
      "memory usage: 2.1+ MB\n"
     ]
    }
   ],
   "source": [
    "df.info()"
   ]
  },
  {
   "cell_type": "markdown",
   "metadata": {},
   "source": [
    "## Columns description\n",
    "\n",
    "The dataset contains 30,000 records with the following columns:  \n",
    "\n",
    "**YEAR:** Year of the transaction  \n",
    "**MONTH:** Month of the transaction  \n",
    "**SUPPLIER:** Supplier name (with some missing values)  \n",
    "**ITEM CODE:** Code of the item sold  \n",
    "**ITEM DESCRIPTION:** Description of the item  \n",
    "**ITEM TYPE:** Type of the item (e.g., wine, beer)  \n",
    "**RETAIL SALES:** Retail sales amount (with one missing value)  \n",
    "**RETAIL TRANSFERS:** Transfers between retail locations  \n",
    "**WAREHOUSE SALES:** Sales from the warehouse  "
   ]
  },
  {
   "cell_type": "markdown",
   "metadata": {},
   "source": [
    "## Types of variables  \n",
    "\n",
    "In this section, I separate the dataset into categorical and numerical variables."
   ]
  },
  {
   "cell_type": "code",
   "execution_count": 63,
   "metadata": {},
   "outputs": [
    {
     "name": "stdout",
     "output_type": "stream",
     "text": [
      "There are 4 categorical variables\n",
      "\n",
      "The categorical variables are : ['SUPPLIER', 'ITEM CODE', 'ITEM DESCRIPTION', 'ITEM TYPE']\n"
     ]
    }
   ],
   "source": [
    "# find categorical variables\n",
    "\n",
    "categorical = [var for var in df.columns if df[var].dtype=='O']\n",
    "\n",
    "print('There are {} categorical variables\\n'.format(len(categorical)))\n",
    "\n",
    "print('The categorical variables are :', categorical)"
   ]
  },
  {
   "cell_type": "code",
   "execution_count": 64,
   "metadata": {},
   "outputs": [],
   "source": [
    "df_categorical = df[categorical]"
   ]
  },
  {
   "cell_type": "code",
   "execution_count": 65,
   "metadata": {},
   "outputs": [
    {
     "data": {
      "text/html": [
       "<div>\n",
       "<style scoped>\n",
       "    .dataframe tbody tr th:only-of-type {\n",
       "        vertical-align: middle;\n",
       "    }\n",
       "\n",
       "    .dataframe tbody tr th {\n",
       "        vertical-align: top;\n",
       "    }\n",
       "\n",
       "    .dataframe thead th {\n",
       "        text-align: right;\n",
       "    }\n",
       "</style>\n",
       "<table border=\"1\" class=\"dataframe\">\n",
       "  <thead>\n",
       "    <tr style=\"text-align: right;\">\n",
       "      <th></th>\n",
       "      <th>SUPPLIER</th>\n",
       "      <th>ITEM CODE</th>\n",
       "      <th>ITEM DESCRIPTION</th>\n",
       "      <th>ITEM TYPE</th>\n",
       "    </tr>\n",
       "  </thead>\n",
       "  <tbody>\n",
       "    <tr>\n",
       "      <th>0</th>\n",
       "      <td>REPUBLIC NATIONAL DISTRIBUTING CO</td>\n",
       "      <td>100009</td>\n",
       "      <td>BOOTLEG RED - 750ML</td>\n",
       "      <td>WINE</td>\n",
       "    </tr>\n",
       "    <tr>\n",
       "      <th>1</th>\n",
       "      <td>PWSWN INC</td>\n",
       "      <td>100024</td>\n",
       "      <td>MOMENT DE PLAISIR - 750ML</td>\n",
       "      <td>WINE</td>\n",
       "    </tr>\n",
       "    <tr>\n",
       "      <th>2</th>\n",
       "      <td>RELIABLE CHURCHILL LLLP</td>\n",
       "      <td>1001</td>\n",
       "      <td>S SMITH ORGANIC PEAR CIDER - 18.7OZ</td>\n",
       "      <td>BEER</td>\n",
       "    </tr>\n",
       "    <tr>\n",
       "      <th>3</th>\n",
       "      <td>LANTERNA DISTRIBUTORS INC</td>\n",
       "      <td>100145</td>\n",
       "      <td>SCHLINK HAUS KABINETT - 750ML</td>\n",
       "      <td>WINE</td>\n",
       "    </tr>\n",
       "    <tr>\n",
       "      <th>4</th>\n",
       "      <td>DIONYSOS IMPORTS INC</td>\n",
       "      <td>100293</td>\n",
       "      <td>SANTORINI GAVALA WHITE - 750ML</td>\n",
       "      <td>WINE</td>\n",
       "    </tr>\n",
       "  </tbody>\n",
       "</table>\n",
       "</div>"
      ],
      "text/plain": [
       "                            SUPPLIER ITEM CODE  \\\n",
       "0  REPUBLIC NATIONAL DISTRIBUTING CO    100009   \n",
       "1                          PWSWN INC    100024   \n",
       "2            RELIABLE CHURCHILL LLLP      1001   \n",
       "3          LANTERNA DISTRIBUTORS INC    100145   \n",
       "4               DIONYSOS IMPORTS INC    100293   \n",
       "\n",
       "                      ITEM DESCRIPTION ITEM TYPE  \n",
       "0                  BOOTLEG RED - 750ML      WINE  \n",
       "1            MOMENT DE PLAISIR - 750ML      WINE  \n",
       "2  S SMITH ORGANIC PEAR CIDER - 18.7OZ      BEER  \n",
       "3        SCHLINK HAUS KABINETT - 750ML      WINE  \n",
       "4       SANTORINI GAVALA WHITE - 750ML      WINE  "
      ]
     },
     "execution_count": 65,
     "metadata": {},
     "output_type": "execute_result"
    }
   ],
   "source": [
    "# view the categorical variables\n",
    "\n",
    "df_categorical.head()"
   ]
  },
  {
   "cell_type": "code",
   "execution_count": 66,
   "metadata": {},
   "outputs": [
    {
     "data": {
      "text/plain": [
       "SUPPLIER\n",
       "THE COUNTRY VINTNER, LLC DBA WINEBOW    2041\n",
       "REPUBLIC NATIONAL DISTRIBUTING CO       1832\n",
       "SOUTHERN GLAZERS WINE AND SPIRITS       1304\n",
       "LEGENDS LTD                             1227\n",
       "MONSIEUR TOUTON SELECTION               1131\n",
       "                                        ... \n",
       "LOOK VODKA LLC                             1\n",
       "SANGLIER SELECTIONS LLC                    1\n",
       "SCOPERTA IMPORTING COMPANY INC             1\n",
       "Z WINE GALLERY IMPORTS LLC                 1\n",
       "SMITH-ANDERSON ENTERPRISES INC             1\n",
       "Name: count, Length: 290, dtype: int64"
      ]
     },
     "execution_count": 66,
     "metadata": {},
     "output_type": "execute_result"
    }
   ],
   "source": [
    "df['SUPPLIER'].value_counts()"
   ]
  },
  {
   "cell_type": "code",
   "execution_count": 67,
   "metadata": {},
   "outputs": [
    {
     "name": "stderr",
     "output_type": "stream",
     "text": [
      "C:\\Users\\user\\AppData\\Local\\Temp\\ipykernel_13716\\2835361292.py:3: SettingWithCopyWarning: \n",
      "A value is trying to be set on a copy of a slice from a DataFrame.\n",
      "Try using .loc[row_indexer,col_indexer] = value instead\n",
      "\n",
      "See the caveats in the documentation: https://pandas.pydata.org/pandas-docs/stable/user_guide/indexing.html#returning-a-view-versus-a-copy\n",
      "  df_categorical['SUPPLIER_FREQUENCY'] = df['SUPPLIER'].map(supplier_counts)\n"
     ]
    }
   ],
   "source": [
    "# Frequency encoding for the 'SUPPLIER' column\n",
    "supplier_counts = df['SUPPLIER'].value_counts()\n",
    "df_categorical['SUPPLIER_FREQUENCY'] = df['SUPPLIER'].map(supplier_counts)\n",
    "\n",
    "# Now 'SUPPLIER_FREQUENCY' column will contain the count of occurrences for each supplier\n"
   ]
  },
  {
   "cell_type": "code",
   "execution_count": 68,
   "metadata": {},
   "outputs": [
    {
     "name": "stderr",
     "output_type": "stream",
     "text": [
      "C:\\Users\\user\\AppData\\Local\\Temp\\ipykernel_13716\\170209703.py:1: SettingWithCopyWarning: \n",
      "A value is trying to be set on a copy of a slice from a DataFrame\n",
      "\n",
      "See the caveats in the documentation: https://pandas.pydata.org/pandas-docs/stable/user_guide/indexing.html#returning-a-view-versus-a-copy\n",
      "  df_categorical.drop('SUPPLIER', axis=1, inplace=True)\n"
     ]
    }
   ],
   "source": [
    "df_categorical.drop('SUPPLIER', axis=1, inplace=True)"
   ]
  },
  {
   "cell_type": "code",
   "execution_count": 69,
   "metadata": {},
   "outputs": [
    {
     "name": "stderr",
     "output_type": "stream",
     "text": [
      "C:\\Users\\user\\AppData\\Local\\Temp\\ipykernel_13716\\3167658544.py:2: SettingWithCopyWarning: \n",
      "A value is trying to be set on a copy of a slice from a DataFrame\n",
      "\n",
      "See the caveats in the documentation: https://pandas.pydata.org/pandas-docs/stable/user_guide/indexing.html#returning-a-view-versus-a-copy\n",
      "  df_categorical.drop('ITEM CODE', axis=1, inplace=True)\n"
     ]
    }
   ],
   "source": [
    "# Dropping the 'ITEM CODE' column\n",
    "df_categorical.drop('ITEM CODE', axis=1, inplace=True)\n"
   ]
  },
  {
   "cell_type": "code",
   "execution_count": 70,
   "metadata": {},
   "outputs": [
    {
     "data": {
      "text/html": [
       "<div>\n",
       "<style scoped>\n",
       "    .dataframe tbody tr th:only-of-type {\n",
       "        vertical-align: middle;\n",
       "    }\n",
       "\n",
       "    .dataframe tbody tr th {\n",
       "        vertical-align: top;\n",
       "    }\n",
       "\n",
       "    .dataframe thead th {\n",
       "        text-align: right;\n",
       "    }\n",
       "</style>\n",
       "<table border=\"1\" class=\"dataframe\">\n",
       "  <thead>\n",
       "    <tr style=\"text-align: right;\">\n",
       "      <th></th>\n",
       "      <th>ITEM DESCRIPTION</th>\n",
       "      <th>ITEM TYPE</th>\n",
       "      <th>SUPPLIER_FREQUENCY</th>\n",
       "    </tr>\n",
       "  </thead>\n",
       "  <tbody>\n",
       "    <tr>\n",
       "      <th>0</th>\n",
       "      <td>BOOTLEG RED - 750ML</td>\n",
       "      <td>WINE</td>\n",
       "      <td>1832.0</td>\n",
       "    </tr>\n",
       "    <tr>\n",
       "      <th>1</th>\n",
       "      <td>MOMENT DE PLAISIR - 750ML</td>\n",
       "      <td>WINE</td>\n",
       "      <td>372.0</td>\n",
       "    </tr>\n",
       "    <tr>\n",
       "      <th>2</th>\n",
       "      <td>S SMITH ORGANIC PEAR CIDER - 18.7OZ</td>\n",
       "      <td>BEER</td>\n",
       "      <td>719.0</td>\n",
       "    </tr>\n",
       "    <tr>\n",
       "      <th>3</th>\n",
       "      <td>SCHLINK HAUS KABINETT - 750ML</td>\n",
       "      <td>WINE</td>\n",
       "      <td>378.0</td>\n",
       "    </tr>\n",
       "    <tr>\n",
       "      <th>4</th>\n",
       "      <td>SANTORINI GAVALA WHITE - 750ML</td>\n",
       "      <td>WINE</td>\n",
       "      <td>439.0</td>\n",
       "    </tr>\n",
       "  </tbody>\n",
       "</table>\n",
       "</div>"
      ],
      "text/plain": [
       "                      ITEM DESCRIPTION ITEM TYPE  SUPPLIER_FREQUENCY\n",
       "0                  BOOTLEG RED - 750ML      WINE              1832.0\n",
       "1            MOMENT DE PLAISIR - 750ML      WINE               372.0\n",
       "2  S SMITH ORGANIC PEAR CIDER - 18.7OZ      BEER               719.0\n",
       "3        SCHLINK HAUS KABINETT - 750ML      WINE               378.0\n",
       "4       SANTORINI GAVALA WHITE - 750ML      WINE               439.0"
      ]
     },
     "execution_count": 70,
     "metadata": {},
     "output_type": "execute_result"
    }
   ],
   "source": [
    "df_categorical.head()"
   ]
  },
  {
   "cell_type": "code",
   "execution_count": 71,
   "metadata": {},
   "outputs": [
    {
     "name": "stderr",
     "output_type": "stream",
     "text": [
      "C:\\Users\\user\\AppData\\Local\\Temp\\ipykernel_13716\\2205981825.py:2: SettingWithCopyWarning: \n",
      "A value is trying to be set on a copy of a slice from a DataFrame\n",
      "\n",
      "See the caveats in the documentation: https://pandas.pydata.org/pandas-docs/stable/user_guide/indexing.html#returning-a-view-versus-a-copy\n",
      "  df_categorical.drop('ITEM DESCRIPTION', axis=1, inplace=True)\n"
     ]
    }
   ],
   "source": [
    "\n",
    "# Drop the original 'ITEM DESCRIPTION' column\n",
    "df_categorical.drop('ITEM DESCRIPTION', axis=1, inplace=True)\n"
   ]
  },
  {
   "cell_type": "code",
   "execution_count": 72,
   "metadata": {},
   "outputs": [
    {
     "data": {
      "text/html": [
       "<div>\n",
       "<style scoped>\n",
       "    .dataframe tbody tr th:only-of-type {\n",
       "        vertical-align: middle;\n",
       "    }\n",
       "\n",
       "    .dataframe tbody tr th {\n",
       "        vertical-align: top;\n",
       "    }\n",
       "\n",
       "    .dataframe thead th {\n",
       "        text-align: right;\n",
       "    }\n",
       "</style>\n",
       "<table border=\"1\" class=\"dataframe\">\n",
       "  <thead>\n",
       "    <tr style=\"text-align: right;\">\n",
       "      <th></th>\n",
       "      <th>SUPPLIER_FREQUENCY</th>\n",
       "      <th>ITEM TYPE_DUNNAGE</th>\n",
       "      <th>ITEM TYPE_KEGS</th>\n",
       "      <th>ITEM TYPE_LIQUOR</th>\n",
       "      <th>ITEM TYPE_NON-ALCOHOL</th>\n",
       "      <th>ITEM TYPE_REF</th>\n",
       "      <th>ITEM TYPE_STR_SUPPLIES</th>\n",
       "      <th>ITEM TYPE_WINE</th>\n",
       "    </tr>\n",
       "  </thead>\n",
       "  <tbody>\n",
       "    <tr>\n",
       "      <th>0</th>\n",
       "      <td>1832.0</td>\n",
       "      <td>0</td>\n",
       "      <td>0</td>\n",
       "      <td>0</td>\n",
       "      <td>0</td>\n",
       "      <td>0</td>\n",
       "      <td>0</td>\n",
       "      <td>1</td>\n",
       "    </tr>\n",
       "    <tr>\n",
       "      <th>1</th>\n",
       "      <td>372.0</td>\n",
       "      <td>0</td>\n",
       "      <td>0</td>\n",
       "      <td>0</td>\n",
       "      <td>0</td>\n",
       "      <td>0</td>\n",
       "      <td>0</td>\n",
       "      <td>1</td>\n",
       "    </tr>\n",
       "    <tr>\n",
       "      <th>2</th>\n",
       "      <td>719.0</td>\n",
       "      <td>0</td>\n",
       "      <td>0</td>\n",
       "      <td>0</td>\n",
       "      <td>0</td>\n",
       "      <td>0</td>\n",
       "      <td>0</td>\n",
       "      <td>0</td>\n",
       "    </tr>\n",
       "    <tr>\n",
       "      <th>3</th>\n",
       "      <td>378.0</td>\n",
       "      <td>0</td>\n",
       "      <td>0</td>\n",
       "      <td>0</td>\n",
       "      <td>0</td>\n",
       "      <td>0</td>\n",
       "      <td>0</td>\n",
       "      <td>1</td>\n",
       "    </tr>\n",
       "    <tr>\n",
       "      <th>4</th>\n",
       "      <td>439.0</td>\n",
       "      <td>0</td>\n",
       "      <td>0</td>\n",
       "      <td>0</td>\n",
       "      <td>0</td>\n",
       "      <td>0</td>\n",
       "      <td>0</td>\n",
       "      <td>1</td>\n",
       "    </tr>\n",
       "  </tbody>\n",
       "</table>\n",
       "</div>"
      ],
      "text/plain": [
       "   SUPPLIER_FREQUENCY  ITEM TYPE_DUNNAGE  ITEM TYPE_KEGS  ITEM TYPE_LIQUOR  \\\n",
       "0              1832.0                  0               0                 0   \n",
       "1               372.0                  0               0                 0   \n",
       "2               719.0                  0               0                 0   \n",
       "3               378.0                  0               0                 0   \n",
       "4               439.0                  0               0                 0   \n",
       "\n",
       "   ITEM TYPE_NON-ALCOHOL  ITEM TYPE_REF  ITEM TYPE_STR_SUPPLIES  \\\n",
       "0                      0              0                       0   \n",
       "1                      0              0                       0   \n",
       "2                      0              0                       0   \n",
       "3                      0              0                       0   \n",
       "4                      0              0                       0   \n",
       "\n",
       "   ITEM TYPE_WINE  \n",
       "0               1  \n",
       "1               1  \n",
       "2               0  \n",
       "3               1  \n",
       "4               1  "
      ]
     },
     "execution_count": 72,
     "metadata": {},
     "output_type": "execute_result"
    }
   ],
   "source": [
    "# One-hot encoding the 'ITEM TYPE' column\n",
    "df_categorical = pd.get_dummies(df_categorical, columns=['ITEM TYPE'], drop_first=True, dtype='int')\n",
    "\n",
    "df_categorical.head(5)"
   ]
  },
  {
   "cell_type": "code",
   "execution_count": null,
   "metadata": {},
   "outputs": [],
   "source": []
  }
 ],
 "metadata": {
  "kernelspec": {
   "display_name": "Python (learn-env)",
   "language": "python",
   "name": "learn-env"
  },
  "language_info": {
   "codemirror_mode": {
    "name": "ipython",
    "version": 3
   },
   "file_extension": ".py",
   "mimetype": "text/x-python",
   "name": "python",
   "nbconvert_exporter": "python",
   "pygments_lexer": "ipython3",
   "version": "3.11.7"
  }
 },
 "nbformat": 4,
 "nbformat_minor": 2
}
